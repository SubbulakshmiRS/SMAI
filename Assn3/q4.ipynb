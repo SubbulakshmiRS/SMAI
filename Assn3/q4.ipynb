{
 "cells": [
  {
   "cell_type": "code",
   "execution_count": 1,
   "metadata": {},
   "outputs": [],
   "source": [
    "import pandas as pd\n",
    "import numpy as np\n",
    "from sklearn.neural_network import MLPRegressor\n",
    "from sklearn.linear_model import LinearRegression\n",
    "from sklearn.metrics import accuracy_score, mean_squared_error, mean_absolute_error"
   ]
  },
  {
   "cell_type": "code",
   "execution_count": 2,
   "metadata": {},
   "outputs": [
    {
     "name": "stderr",
     "output_type": "stream",
     "text": [
      "/home/subbu/.local/lib/python3.5/site-packages/IPython/core/interactiveshell.py:3058: DtypeWarning: Columns (2,3,4,5,6,7) have mixed types. Specify dtype option on import or set low_memory=False.\n",
      "  interactivity=interactivity, compiler=compiler, result=result)\n"
     ]
    }
   ],
   "source": [
    "dt=pd.read_csv(\"household_power_consumption.txt\", sep=';', header =[0])\n",
    "dt['D'] = dt['Date'] + \" \" + dt['Time']\n",
    "dt['D'] = pd.to_datetime(dt['D'], infer_datetime_format=True)\n",
    "dt = dt[dt['Global_active_power'] != '?']\n",
    "dt['Global_active_power'] = pd.to_numeric(dt['Global_active_power'], downcast=\"float\")"
   ]
  },
  {
   "cell_type": "code",
   "execution_count": 3,
   "metadata": {},
   "outputs": [],
   "source": [
    "dt = dt[:10000] \n",
    "data = np.zeros((dt.shape[0]-60,60))\n",
    "i = 0\n",
    "for index, row in dt[::-1].iterrows():\n",
    "    if(index - 61 >= 0):\n",
    "        b = dt[index-61:index]['Global_active_power']\n",
    "        data[i,:] = np.array(b)[:60].reshape(60)\n",
    "        i = i+1\n",
    "    else :\n",
    "        break\n",
    "\n",
    "data = np.array(data)\n",
    "data =data.reshape(data.shape[0],60)"
   ]
  },
  {
   "cell_type": "code",
   "execution_count": 4,
   "metadata": {},
   "outputs": [],
   "source": [
    "trainData = data[:8000,:-1].astype(np.float32)\n",
    "trainLabel = data[:8000,-1].astype(np.float32)\n",
    "testData = data[8000:,:-1].astype(np.float32)\n",
    "testLabel = data[8000:,-1].astype(np.float32)"
   ]
  },
  {
   "cell_type": "code",
   "execution_count": 5,
   "metadata": {},
   "outputs": [],
   "source": [
    "reg = LinearRegression().fit(trainData, trainLabel)\n",
    "predictions = reg.predict(testData)"
   ]
  },
  {
   "cell_type": "code",
   "execution_count": 6,
   "metadata": {},
   "outputs": [
    {
     "name": "stdout",
     "output_type": "stream",
     "text": [
      "Mean squared error 0.3636033\n",
      "Mean absolute error 0.36185887\n"
     ]
    }
   ],
   "source": [
    "print (\"Mean squared error\", mean_squared_error(testLabel, predictions))\n",
    "print (\"Mean absolute error\", mean_absolute_error(testLabel, predictions))"
   ]
  },
  {
   "cell_type": "code",
   "execution_count": 7,
   "metadata": {},
   "outputs": [
    {
     "name": "stderr",
     "output_type": "stream",
     "text": [
      "/home/subbu/.local/lib/python3.5/site-packages/sklearn/neural_network/_multilayer_perceptron.py:571: ConvergenceWarning: Stochastic Optimizer: Maximum iterations (200) reached and the optimization hasn't converged yet.\n",
      "  % self.max_iter, ConvergenceWarning)\n"
     ]
    }
   ],
   "source": [
    "regressor = MLPRegressor(hidden_layer_sizes = (100, 75, 50, 25), activation = 'relu', solver = 'sgd', learning_rate = 'adaptive', alpha = 0.1)\n",
    "regressor.fit(trainData, trainLabel)\n",
    "predictions = regressor.predict(testData)"
   ]
  },
  {
   "cell_type": "code",
   "execution_count": 8,
   "metadata": {},
   "outputs": [
    {
     "name": "stdout",
     "output_type": "stream",
     "text": [
      "Mean squared error 0.35808879172433006\n",
      "Mean absolute error 0.3947421402616107\n"
     ]
    }
   ],
   "source": [
    "print (\"Mean squared error\", mean_squared_error(testLabel, predictions))\n",
    "print (\"Mean absolute error\", mean_absolute_error(testLabel, predictions))"
   ]
  },
  {
   "cell_type": "markdown",
   "metadata": {},
   "source": [
    "Linear regression and MLP regression are giving very similar Mean squared error value of 0.36 for an 1 hr interval."
   ]
  },
  {
   "cell_type": "code",
   "execution_count": 10,
   "metadata": {},
   "outputs": [],
   "source": [
    "dt = dt[:10000] \n",
    "data = np.zeros((dt.shape[0]-120,120))\n",
    "i = 0\n",
    "for index, row in dt[::-1].iterrows():\n",
    "    if(index - 121 >= 0):\n",
    "        b = dt[index-121:index]['Global_active_power']\n",
    "        data[i,:] = np.array(b)[:120].reshape(120)\n",
    "        i = i+1\n",
    "    else :\n",
    "        break\n",
    "\n",
    "data = np.array(data)\n",
    "data =data.reshape(data.shape[0],120)\n",
    "trainData = data[:8000,:-1].astype(np.float32)\n",
    "trainLabel = data[:8000,-1].astype(np.float32)\n",
    "testData = data[8000:,:-1].astype(np.float32)\n",
    "testLabel = data[8000:,-1].astype(np.float32)"
   ]
  },
  {
   "cell_type": "code",
   "execution_count": 11,
   "metadata": {},
   "outputs": [
    {
     "name": "stdout",
     "output_type": "stream",
     "text": [
      "Mean squared error 0.37246248\n",
      "Mean absolute error 0.36705777\n"
     ]
    }
   ],
   "source": [
    "reg = LinearRegression().fit(trainData, trainLabel)\n",
    "predictions = reg.predict(testData)\n",
    "print (\"Mean squared error\", mean_squared_error(testLabel, predictions))\n",
    "print (\"Mean absolute error\", mean_absolute_error(testLabel, predictions))"
   ]
  },
  {
   "cell_type": "code",
   "execution_count": 12,
   "metadata": {},
   "outputs": [
    {
     "name": "stdout",
     "output_type": "stream",
     "text": [
      "Mean squared error 0.35340944293641074\n",
      "Mean absolute error 0.3888714073462912\n"
     ]
    },
    {
     "name": "stderr",
     "output_type": "stream",
     "text": [
      "/home/subbu/.local/lib/python3.5/site-packages/sklearn/neural_network/_multilayer_perceptron.py:571: ConvergenceWarning: Stochastic Optimizer: Maximum iterations (200) reached and the optimization hasn't converged yet.\n",
      "  % self.max_iter, ConvergenceWarning)\n"
     ]
    }
   ],
   "source": [
    "regressor = MLPRegressor(hidden_layer_sizes = (100, 75, 50, 25), activation = 'relu', solver = 'sgd', learning_rate = 'adaptive', alpha = 0.1)\n",
    "regressor.fit(trainData, trainLabel)\n",
    "predictions = regressor.predict(testData)\n",
    "print (\"Mean squared error\", mean_squared_error(testLabel, predictions))\n",
    "print (\"Mean absolute error\", mean_absolute_error(testLabel, predictions))"
   ]
  },
  {
   "cell_type": "markdown",
   "metadata": {},
   "source": [
    "For a 2 hour interval, very similar mse values are listed out for both LinearRegression and MLPRegressor"
   ]
  },
  {
   "cell_type": "code",
   "execution_count": null,
   "metadata": {},
   "outputs": [],
   "source": []
  }
 ],
 "metadata": {
  "kernelspec": {
   "display_name": "Python 3",
   "language": "python",
   "name": "python3"
  },
  "language_info": {
   "codemirror_mode": {
    "name": "ipython",
    "version": 3
   },
   "file_extension": ".py",
   "mimetype": "text/x-python",
   "name": "python",
   "nbconvert_exporter": "python",
   "pygments_lexer": "ipython3",
   "version": "3.5.2"
  }
 },
 "nbformat": 4,
 "nbformat_minor": 2
}
