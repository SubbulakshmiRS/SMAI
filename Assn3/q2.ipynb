{
 "cells": [
  {
   "cell_type": "code",
   "execution_count": 8,
   "metadata": {},
   "outputs": [],
   "source": [
    "import cv2\n",
    "import os\n",
    "import glob\n",
    "import numpy as np\n",
    "from numpy.linalg import eig\n",
    "from matplotlib import pyplot as plt\n",
    "from sklearn.metrics import accuracy_score, confusion_matrix, classification_report"
   ]
  },
  {
   "cell_type": "code",
   "execution_count": 2,
   "metadata": {},
   "outputs": [],
   "source": [
    "img_dir = \"./dataset/\"\n",
    "data_path = os.path.join(img_dir,'*.jpg')\n",
    "files = glob.glob(data_path)\n",
    "data = []\n",
    "labels = []\n",
    "for f1 in files:\n",
    "    a = str(f1).split('.')\n",
    "    b = str(a[1]).split('/')\n",
    "    c = str(b[-1]).split('_')\n",
    "    labels.append(str(c[0]))\n",
    "    img = cv2.imread(f1,0)\n",
    "    img = cv2.resize(img, (64,64), interpolation = cv2.INTER_AREA) \n",
    "    data.append(img)\n",
    "\n",
    "#prep for traning data and labels\n",
    "data = np.array(data)\n",
    "data = data.reshape(data.shape[0], data.shape[1]*data.shape[2]) \n",
    "labels = np.array(labels)\n",
    "labels = labels.reshape(-1)\n",
    "labelsUNQ = np.unique(labels)"
   ]
  },
  {
   "cell_type": "code",
   "execution_count": 3,
   "metadata": {},
   "outputs": [],
   "source": [
    "avg = np.mean(data.T, axis=1)\n",
    "C = data - avg\n",
    "V = np.cov(C.T)\n",
    "values, vectors = eig(V)"
   ]
  },
  {
   "cell_type": "code",
   "execution_count": 4,
   "metadata": {},
   "outputs": [],
   "source": [
    "indEig = values.argsort()[-100:][::-1]\n",
    "vectors = vectors[:,indEig]\n",
    "dataPCA = np.dot(C, vectors)"
   ]
  },
  {
   "cell_type": "code",
   "execution_count": 5,
   "metadata": {},
   "outputs": [],
   "source": [
    "dataFin = np.c_[ np.ones(len(dataPCA)), dataPCA ]\n",
    "trainData = dataFin[:420]\n",
    "testData = dataFin[420:]\n",
    "trainLabel = labels[:420]\n",
    "testLabel = labels[420:]"
   ]
  },
  {
   "cell_type": "code",
   "execution_count": 6,
   "metadata": {},
   "outputs": [
    {
     "name": "stderr",
     "output_type": "stream",
     "text": [
      "/home/subbu/.local/lib/python3.5/site-packages/ipykernel_launcher.py:31: ComplexWarning: Casting complex values to real discards the imaginary part\n",
      "/home/subbu/.local/lib/python3.5/site-packages/ipykernel_launcher.py:34: ComplexWarning: Casting complex values to real discards the imaginary part\n"
     ]
    }
   ],
   "source": [
    "# Make a prediction with coefficients\n",
    "def predict(data , coef):\n",
    "    coef = coef.reshape(len(coef),1)\n",
    "    yhat = np.dot(data, coef)\n",
    "    return 1.0 / (1.0 + np.exp(-yhat))\n",
    "\n",
    "# Estimate logistic regression coefficients using stochastic gradient descent\n",
    "def coefficients_sgd(trainData , labels, alpha, itr):\n",
    "    coef = np.zeros((len(trainData[0]),1))\n",
    "    labels = labels.reshape(len(labels),1)\n",
    "    for i in range(itr):\n",
    "        yhat = predict(trainData, coef)\n",
    "        error = labels - yhat\n",
    "#         a = (yhat * (1-yhat))\n",
    "#         a = a.reshape(len(a),1)\n",
    "        p = alpha * np.dot(trainData.T, error)\n",
    "        coef = coef + p\n",
    "    return coef\n",
    " \n",
    "alpha = 5e-10\n",
    "itr = 10000\n",
    "shape = (trainLabel.size, labelsUNQ.size)\n",
    "labels1H = np.zeros(shape)\n",
    "for i in range(len(labelsUNQ)):\n",
    "    temp = np.where(trainLabel == labelsUNQ[i])\n",
    "    labels1H[temp[0],i] = 1\n",
    "predictions = np.zeros((len(testData),len(labelsUNQ)))\n",
    "coefficients = np.zeros((len(labels1H[0]), len(trainData[0])))\n",
    "\n",
    "for i in range(len(labels1H[0])):\n",
    "    coefficients[i] = coefficients_sgd(trainData, labels1H[:,i] , alpha, itr).reshape(coefficients[i].shape)\n",
    "for i in range(len(labelsUNQ)):\n",
    "    temp = predict(testData, coefficients[i])\n",
    "    predictions[:,i] = temp.reshape(len(temp))\n",
    "\n",
    "labelsInd = np.argmax(predictions, axis=1)\n",
    "labelsPred = labelsUNQ[labelsInd]"
   ]
  },
  {
   "cell_type": "code",
   "execution_count": 9,
   "metadata": {},
   "outputs": [
    {
     "name": "stdout",
     "output_type": "stream",
     "text": [
      "\n",
      "Accuracy score\n",
      " 0.64\n",
      "\n",
      "Confusion matrix for MLP\n",
      " [[ 5  0  2  0  2  1  0  1]\n",
      " [ 1 10  0  4  1  0  0  0]\n",
      " [ 0  2  7  0  1  0  0  0]\n",
      " [ 1  2  0 11  2  0  0  0]\n",
      " [ 0  2  0  0  4  2  0  1]\n",
      " [ 0  0  0  1  2  5  0  0]\n",
      " [ 1  2  0  1  0  0  6  1]\n",
      " [ 0  1  0  1  1  0  0 16]]\n",
      "\n",
      "Classification report for MLP\n",
      "               precision    recall  f1-score   support\n",
      "\n",
      "         000       0.62      0.45      0.53        11\n",
      "         001       0.53      0.62      0.57        16\n",
      "         002       0.78      0.70      0.74        10\n",
      "         003       0.61      0.69      0.65        16\n",
      "         004       0.31      0.44      0.36         9\n",
      "         005       0.62      0.62      0.62         8\n",
      "         006       1.00      0.55      0.71        11\n",
      "         007       0.84      0.84      0.84        19\n",
      "\n",
      "    accuracy                           0.64       100\n",
      "   macro avg       0.66      0.62      0.63       100\n",
      "weighted avg       0.68      0.64      0.65       100\n",
      "\n"
     ]
    }
   ],
   "source": [
    "print (\"\\nAccuracy score for Logistic regression\\n\", accuracy_score(testLabel, labelsPred))\n",
    "print(\"\\nConfusion matrix for Logistic regression\\n\",confusion_matrix(testLabel, labelsPred))\n",
    "print(\"\\nClassification report for Logistic regression\\n\",classification_report(testLabel, labelsPred))"
   ]
  },
  {
   "cell_type": "code",
   "execution_count": null,
   "metadata": {},
   "outputs": [],
   "source": []
  },
  {
   "cell_type": "code",
   "execution_count": null,
   "metadata": {},
   "outputs": [],
   "source": []
  },
  {
   "cell_type": "code",
   "execution_count": null,
   "metadata": {},
   "outputs": [],
   "source": []
  }
 ],
 "metadata": {
  "kernelspec": {
   "display_name": "Python 3",
   "language": "python",
   "name": "python3"
  },
  "language_info": {
   "codemirror_mode": {
    "name": "ipython",
    "version": 3
   },
   "file_extension": ".py",
   "mimetype": "text/x-python",
   "name": "python",
   "nbconvert_exporter": "python",
   "pygments_lexer": "ipython3",
   "version": "3.5.2"
  }
 },
 "nbformat": 4,
 "nbformat_minor": 2
}
