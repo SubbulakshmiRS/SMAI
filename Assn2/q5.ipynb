{
 "cells": [
  {
   "cell_type": "code",
   "execution_count": 1,
   "metadata": {},
   "outputs": [
    {
     "name": "stderr",
     "output_type": "stream",
     "text": [
      "/usr/lib/python3.5/importlib/_bootstrap.py:222: RuntimeWarning: numpy.dtype size changed, may indicate binary incompatibility. Expected 96, got 88\n",
      "  return f(*args, **kwds)\n",
      "/usr/lib/python3.5/importlib/_bootstrap.py:222: RuntimeWarning: numpy.dtype size changed, may indicate binary incompatibility. Expected 96, got 88\n",
      "  return f(*args, **kwds)\n"
     ]
    }
   ],
   "source": [
    "import csv\n",
    "import pandas as pd\n",
    "import numpy as np\n",
    "import matplotlib.pyplot as plt\n",
    "from sklearn.preprocessing import StandardScaler\n",
    "from sklearn.decomposition import TruncatedSVD\n",
    "from sklearn.feature_extraction.text import TfidfVectorizer\n",
    "from sklearn import svm\n",
    "from sklearn import metrics"
   ]
  },
  {
   "cell_type": "code",
   "execution_count": 5,
   "metadata": {},
   "outputs": [],
   "source": [
    "class AuthorClassifier:\n",
    "\n",
    "    def stat(self, labelst, labelsp):\n",
    "        print(\"--------------------------------------------------\")\n",
    "        print(\"STATISTICS\")\n",
    "        print(\"Accuracy:\",metrics.accuracy_score(labelst, labelsp))\n",
    "        print(\"Confusion matrix:\\n\",metrics.confusion_matrix(labelst, labelsp))\n",
    "\n",
    "    def prep(self, trainData):\n",
    "        trainData = np.delete(trainData, 0, axis=0) \n",
    "        trainData = np.delete(trainData, 0, axis=1) \n",
    "        # print(\"train Data shape\", trainData.shape)\n",
    "        txt = trainData[:,0]\n",
    "        # print(\"text shape\", txt.shape)\n",
    "        txt = txt.reshape(txt.shape[0])\n",
    "        y = trainData[:,1]\n",
    "        y = y.reshape(len(y), 1)\n",
    "        # print(\"text \", txt[0])\n",
    "        vectorizer  = TfidfVectorizer(smooth_idf=False, sublinear_tf=False, norm=None, analyzer='word', stop_words = 'english')\n",
    "        txt_fitted = vectorizer.fit(txt)\n",
    "        x = txt_fitted.transform(txt)\n",
    "        # x = x.todense()\n",
    "        #x = np.array(x)\n",
    "        #x = x.astype(np.float)\n",
    "        # print(\"2 \", x.shape)\n",
    "        # print(\"3 \", y.shape )\n",
    "\n",
    "        svd = TruncatedSVD(n_components=100)\n",
    "        xPCA = svd.fit_transform(x)\n",
    "        # print(\"PCA reduced shape \",xPCA.shape)\n",
    "        return xPCA, y\n",
    "\n",
    "    def train(self, DataFile,kernel, c):\n",
    "        with open(DataFile,'r') as fD:\n",
    "            readerD = csv.reader(fD)\n",
    "            trnData = np.array(list(readerD))\n",
    "            np.random.shuffle(trnData)\n",
    "            x,y = self.prep(trnData)\n",
    "            xTest = x[0:100]\n",
    "            xTrain = x[100:]\n",
    "            yTest = y[0:100]\n",
    "            yTrain = y[100:]\n",
    "            print(\"prep done \")\n",
    "            subclf = svm.SVC(kernel=kernel, C=c)\n",
    "            subclf.fit(xTrain,yTrain)\n",
    "            print(\"fit done\")\n",
    "            yPredict = subclf.predict(xTest)\n",
    "            # print(\"predicted length:\",len(yPredict))\n",
    "\n",
    "            self.stat(yTest, yPredict)"
   ]
  },
  {
   "cell_type": "markdown",
   "metadata": {},
   "source": [
    "For the linear SVM, we are using different values of C. The best result is coming for c = 0.01 "
   ]
  },
  {
   "cell_type": "code",
   "execution_count": 6,
   "metadata": {},
   "outputs": [
    {
     "name": "stdout",
     "output_type": "stream",
     "text": [
      "prep done \n"
     ]
    },
    {
     "name": "stderr",
     "output_type": "stream",
     "text": [
      "/home/subbu/.local/lib/python3.5/site-packages/sklearn/utils/validation.py:760: DataConversionWarning: A column-vector y was passed when a 1d array was expected. Please change the shape of y to (n_samples, ), for example using ravel().\n",
      "  y = column_or_1d(y, warn=True)\n"
     ]
    },
    {
     "name": "stdout",
     "output_type": "stream",
     "text": [
      "fit done\n",
      "--------------------------------------------------\n",
      "STATISTICS\n",
      "Accuracy: 0.6\n",
      "Confusion matrix:\n",
      " [[35  3  6]\n",
      " [13 11  2]\n",
      " [15  1 14]]\n"
     ]
    }
   ],
   "source": [
    "auth_classifier = AuthorClassifier()\n",
    "auth_classifier.train('./Question-5/Train(1).csv','linear',0.001)"
   ]
  },
  {
   "cell_type": "code",
   "execution_count": 7,
   "metadata": {},
   "outputs": [
    {
     "name": "stdout",
     "output_type": "stream",
     "text": [
      "prep done \n"
     ]
    },
    {
     "name": "stderr",
     "output_type": "stream",
     "text": [
      "/home/subbu/.local/lib/python3.5/site-packages/sklearn/utils/validation.py:760: DataConversionWarning: A column-vector y was passed when a 1d array was expected. Please change the shape of y to (n_samples, ), for example using ravel().\n",
      "  y = column_or_1d(y, warn=True)\n"
     ]
    },
    {
     "name": "stdout",
     "output_type": "stream",
     "text": [
      "fit done\n",
      "--------------------------------------------------\n",
      "STATISTICS\n",
      "Accuracy: 0.72\n",
      "Confusion matrix:\n",
      " [[39  4  3]\n",
      " [ 8  8  4]\n",
      " [ 7  2 25]]\n"
     ]
    }
   ],
   "source": [
    "auth_classifier.train('./Question-5/Train(1).csv','linear',0.01)"
   ]
  },
  {
   "cell_type": "code",
   "execution_count": 8,
   "metadata": {},
   "outputs": [
    {
     "name": "stdout",
     "output_type": "stream",
     "text": [
      "prep done \n"
     ]
    },
    {
     "name": "stderr",
     "output_type": "stream",
     "text": [
      "/home/subbu/.local/lib/python3.5/site-packages/sklearn/utils/validation.py:760: DataConversionWarning: A column-vector y was passed when a 1d array was expected. Please change the shape of y to (n_samples, ), for example using ravel().\n",
      "  y = column_or_1d(y, warn=True)\n"
     ]
    },
    {
     "name": "stdout",
     "output_type": "stream",
     "text": [
      "fit done\n",
      "--------------------------------------------------\n",
      "STATISTICS\n",
      "Accuracy: 0.66\n",
      "Confusion matrix:\n",
      " [[32  2  6]\n",
      " [10 17  2]\n",
      " [11  3 17]]\n"
     ]
    }
   ],
   "source": [
    "auth_classifier.train('./Question-5/Train(1).csv','linear',0.1)"
   ]
  },
  {
   "cell_type": "markdown",
   "metadata": {},
   "source": [
    "For different kernel values, we are running the data. The best result is coming for kernel = linear for the given data."
   ]
  },
  {
   "cell_type": "code",
   "execution_count": 9,
   "metadata": {},
   "outputs": [
    {
     "name": "stdout",
     "output_type": "stream",
     "text": [
      "prep done \n"
     ]
    },
    {
     "name": "stderr",
     "output_type": "stream",
     "text": [
      "/home/subbu/.local/lib/python3.5/site-packages/sklearn/utils/validation.py:760: DataConversionWarning: A column-vector y was passed when a 1d array was expected. Please change the shape of y to (n_samples, ), for example using ravel().\n",
      "  y = column_or_1d(y, warn=True)\n"
     ]
    },
    {
     "name": "stdout",
     "output_type": "stream",
     "text": [
      "fit done\n",
      "--------------------------------------------------\n",
      "STATISTICS\n",
      "Accuracy: 0.44\n",
      "Confusion matrix:\n",
      " [[42  1  0]\n",
      " [27  0  1]\n",
      " [27  0  2]]\n"
     ]
    }
   ],
   "source": [
    "auth_classifier.train('./Question-5/Train(1).csv','poly',0.01)"
   ]
  },
  {
   "cell_type": "code",
   "execution_count": 10,
   "metadata": {},
   "outputs": [
    {
     "name": "stdout",
     "output_type": "stream",
     "text": [
      "prep done \n"
     ]
    },
    {
     "name": "stderr",
     "output_type": "stream",
     "text": [
      "/home/subbu/.local/lib/python3.5/site-packages/sklearn/utils/validation.py:760: DataConversionWarning: A column-vector y was passed when a 1d array was expected. Please change the shape of y to (n_samples, ), for example using ravel().\n",
      "  y = column_or_1d(y, warn=True)\n"
     ]
    },
    {
     "name": "stdout",
     "output_type": "stream",
     "text": [
      "fit done\n",
      "--------------------------------------------------\n",
      "STATISTICS\n",
      "Accuracy: 0.32\n",
      "Confusion matrix:\n",
      " [[31  0  0]\n",
      " [28  0  0]\n",
      " [40  0  1]]\n"
     ]
    }
   ],
   "source": [
    "auth_classifier.train('./Question-5/Train(1).csv','rbf',0.01)"
   ]
  },
  {
   "cell_type": "code",
   "execution_count": 11,
   "metadata": {},
   "outputs": [
    {
     "name": "stdout",
     "output_type": "stream",
     "text": [
      "prep done \n"
     ]
    },
    {
     "name": "stderr",
     "output_type": "stream",
     "text": [
      "/home/subbu/.local/lib/python3.5/site-packages/sklearn/utils/validation.py:760: DataConversionWarning: A column-vector y was passed when a 1d array was expected. Please change the shape of y to (n_samples, ), for example using ravel().\n",
      "  y = column_or_1d(y, warn=True)\n"
     ]
    },
    {
     "name": "stdout",
     "output_type": "stream",
     "text": [
      "fit done\n",
      "--------------------------------------------------\n",
      "STATISTICS\n",
      "Accuracy: 0.54\n",
      "Confusion matrix:\n",
      " [[42  0  0]\n",
      " [14  4  0]\n",
      " [31  1  8]]\n"
     ]
    }
   ],
   "source": [
    "auth_classifier.train('./Question-5/Train(1).csv','sigmoid',0.01)"
   ]
  }
 ],
 "metadata": {
  "kernelspec": {
   "display_name": "Python 3",
   "language": "python",
   "name": "python3"
  },
  "language_info": {
   "codemirror_mode": {
    "name": "ipython",
    "version": 3
   },
   "file_extension": ".py",
   "mimetype": "text/x-python",
   "name": "python",
   "nbconvert_exporter": "python",
   "pygments_lexer": "ipython3",
   "version": "3.5.2"
  }
 },
 "nbformat": 4,
 "nbformat_minor": 2
}
