{
 "cells": [
  {
   "cell_type": "code",
   "execution_count": 1,
   "metadata": {},
   "outputs": [],
   "source": [
    "from math import sqrt\n",
    "import csv\n",
    "import collections\n",
    "import numpy as np \n",
    "from sklearn.metrics import accuracy_score, f1_score, confusion_matrix\n",
    "from sklearn.neighbors import KNeighborsClassifier\n",
    "from random import seed\n",
    "from random import randint"
   ]
  },
  {
   "cell_type": "code",
   "execution_count": 2,
   "metadata": {},
   "outputs": [],
   "source": [
    "def mode(num_list):\n",
    "    # print(\"len of num_list\", len(num_list))\n",
    "    # print(\"num_list1\", num_list)\n",
    "    num_list = np.array(list(filter(lambda a: a != '?', num_list)))\n",
    "    # print(\"num_list2\", num_list)\n",
    "    modev = collections.Counter(num_list).most_common(1)\n",
    "    mode_val = modev[0][0]\n",
    "    return mode_val\n",
    "\n",
    "# calculate the distance between 2 vectors \n",
    "def distanceChar(test_row, trainData):\n",
    "    # print(\"train data\", len(trainData), len(trainData[0]))\n",
    "    # print(\"test_row\", len(test_row))\n",
    "    # exit(0)\n",
    "    # a = trainData - test_row\n",
    "    b = trainData != test_row\n",
    "    c = b.astype(np.int)\n",
    "    distances = np.sum(c, axis = 1)\n",
    "    return distances.reshape(-1,1)\n",
    "\n",
    "# Locate the most similar neighbors\n",
    "def get_neighbors(trainData, test_row, num_neighbors):\n",
    "    distances = distanceChar(test_row[1:22], trainData[:,1:22])\n",
    "    # print(distances[0])\n",
    "    dist = np.append(trainData, distances, axis=1)\n",
    "    dist = np.array(sorted(dist, key=lambda a_entry: a_entry[-1]))\n",
    "    # print(distances[0,:])\n",
    "    neighbors = dist[0:num_neighbors,0]\n",
    "    # print(\"NRIGH\", neigh`bors[0])\n",
    "    return neighbors\n",
    "\n",
    "def prepData(trainData):\n",
    "    for i in range(len(trainData[0])):\n",
    "        mode_val = mode(trainData[:,i])\n",
    "        for j in range(len(trainData[:,i])):\n",
    "            if trainData[j][i] == '?':\n",
    "                trainData[j][i] = mode_val\n",
    "    return trainData\n",
    "\n",
    "# Make a classification prediction with neighbors\n",
    "def predict_classification(trainDataFile, num_neighbors):\n",
    "    with open(trainDataFile,'r') as f:\n",
    "        reader  = csv.reader(f)\n",
    "        trainData = np.array(list(reader))\n",
    "        np.random.shuffle(trainData)\n",
    "        trainData = prepData(trainData)\n",
    "        validate = trainData[0:400,:]\n",
    "        trainData = trainData[400:,:]\n",
    "        tags = np.empty(len(validate), dtype = \"<U10\") \n",
    "        predict = np.empty(len(validate), dtype = \"<U10\")\n",
    "        for index in range(len(validate)):\n",
    "            # print(index)\n",
    "            test_row = validate[index,:]\n",
    "            output_values = get_neighbors(trainData, test_row, num_neighbors)\n",
    "            b = collections.Counter(output_values)\n",
    "            prediction = b.most_common()[0][0]\n",
    "            tags[index] = test_row[0]\n",
    "            predict[index] = prediction\n",
    "    return list(tags), list(predict)"
   ]
  },
  {
   "cell_type": "code",
   "execution_count": 31,
   "metadata": {},
   "outputs": [],
   "source": [
    "def evaluate(tags, predictions, num_neighbors):\n",
    "#     print(\"tags\", tags)\n",
    "#     print(\"predictions\", predict)\n",
    "    print(\"k = \", num_neighbors)\n",
    "    print(\"Accuracy\",accuracy_score(tags, predictions))\n",
    "    print(\"F1 Score\",f1_score(tags, predictions, average='micro'))\n",
    "    print(\"Confusion matrix\")\n",
    "    print(confusion_matrix(tags, predictions))"
   ]
  },
  {
   "cell_type": "code",
   "execution_count": 48,
   "metadata": {},
   "outputs": [],
   "source": [
    "#Inbuilt KNN implementation with missing data replaced by mode\n",
    "def inbuiltKNN(trainFile, num_neighbor):\n",
    "    with open(trainFile,'r') as f:\n",
    "        reader  = csv.reader(f)\n",
    "        trainData = np.array(list(reader))\n",
    "        train = np.empty([len(trainData), len(trainData[0])], dtype=int)\n",
    "        for i in range(len(trainData[0])):\n",
    "            mode_val = mode(trainData[:,i])\n",
    "            for j in range(len(trainData[:,i])):\n",
    "                if trainData[j][i] == '?':\n",
    "                    trainData[j][i] = mode_val\n",
    "                train[j][i] = ord(trainData[j][i])\n",
    "        np.random.shuffle(trainData)\n",
    "        validate = train[0:400,:]\n",
    "        train = train[400:,:]\n",
    "        knn = KNeighborsClassifier(n_neighbors=num_neighbor)\n",
    "        knn.fit(train[:,1:], train[:,0])\n",
    "        predict = knn.predict(validate[:,1:])\n",
    "        tags = validate[:,0]\n",
    "        return tags, predict\n",
    "\n",
    "#Random choosing from the training data, with the missing data replaced by mode\n",
    "def random_classifier(trainFile, num_neighbor):\n",
    "    with open(trainFile,'r') as f:\n",
    "        reader  = csv.reader(f)\n",
    "        train = np.array(list(reader))\n",
    "        train = prepData(train)\n",
    "        validate = train[0:400,:]\n",
    "        train = train[400:,:]\n",
    "        seed(1)\n",
    "        tags = np.empty(len(validate), dtype = str)\n",
    "        predict = np.empty(len(validate), dtype = str)\n",
    "        for index in range(len(validate)):\n",
    "            i = randint(0, len(train))\n",
    "            tags[index] = validate[index,0]\n",
    "            predict[index] = train[i,0]\n",
    "    return tags, predict\n",
    "\n",
    "#Majority choosing(mode), with the missing data replaced by mode\n",
    "def majority_classifier(trainFile, num_neighbors):\n",
    "    with open(trainFile,'r') as f:\n",
    "        reader  = csv.reader(f)\n",
    "        train = np.array(list(reader))\n",
    "        np.random.shuffle(train)\n",
    "        train = prepData(train)\n",
    "        validate = train[0:400,:]\n",
    "        train = train[400:,:]\n",
    "        tags = validate[:,0]\n",
    "        b = collections.Counter(train[:,0])\n",
    "        prediction = b.most_common()[0][0]\n",
    "        predict = np.full(len(validate), prediction)\n",
    "#         print(\"predict\", predict)\n",
    "#         print(\"tag\", tags)\n",
    "        return tags, predict"
   ]
  },
  {
   "cell_type": "code",
   "execution_count": 8,
   "metadata": {},
   "outputs": [
    {
     "name": "stdout",
     "output_type": "stream",
     "text": [
      "k =  1\n",
      "Accuracy 1.0\n",
      "F1 Score 1.0\n",
      "Confusion matrix\n",
      "[[147   0   0]\n",
      " [  0   0   0]\n",
      " [  0   0 253]]\n"
     ]
    }
   ],
   "source": [
    "tags, predict = predict_classification(\"./Datasets/q2/train.csv\", 1)\n",
    "evaluate(tags, predict, 1)"
   ]
  },
  {
   "cell_type": "code",
   "execution_count": 10,
   "metadata": {},
   "outputs": [
    {
     "name": "stdout",
     "output_type": "stream",
     "text": [
      "k =  2\n",
      "Accuracy 1.0\n",
      "F1 Score 1.0\n",
      "Confusion matrix\n",
      "[[140   0   0]\n",
      " [  0   0   0]\n",
      " [  0   0 260]]\n"
     ]
    }
   ],
   "source": [
    "tags, predict = predict_classification(\"./Datasets/q2/train.csv\", 2)\n",
    "evaluate(tags, predict, 2)"
   ]
  },
  {
   "cell_type": "code",
   "execution_count": 11,
   "metadata": {},
   "outputs": [
    {
     "name": "stdout",
     "output_type": "stream",
     "text": [
      "k =  3\n",
      "Accuracy 0.99\n",
      "F1 Score 0.99\n",
      "Confusion matrix\n",
      "[[164   0   4]\n",
      " [  0   0   0]\n",
      " [  0   0 232]]\n"
     ]
    }
   ],
   "source": [
    "tags, predict = predict_classification(\"./Datasets/q2/train.csv\", 3)\n",
    "evaluate(tags, predict, 3)"
   ]
  },
  {
   "cell_type": "markdown",
   "metadata": {},
   "source": [
    "KNN classifier with k=1 is the best we can do with our implementation. Now we will compare with inbuilt, random choosing and majority choosing applications of KNN"
   ]
  },
  {
   "cell_type": "code",
   "execution_count": 34,
   "metadata": {},
   "outputs": [
    {
     "name": "stdout",
     "output_type": "stream",
     "text": [
      "k =  1\n",
      "Accuracy 1.0\n",
      "F1 Score 1.0\n",
      "Confusion matrix\n",
      "[[400]]\n"
     ]
    }
   ],
   "source": [
    "tags, predict = inbuiltKNN(\"./Datasets/q2/train.csv\", 1)\n",
    "evaluate(tags, predict, 1)"
   ]
  },
  {
   "cell_type": "code",
   "execution_count": 39,
   "metadata": {},
   "outputs": [
    {
     "name": "stdout",
     "output_type": "stream",
     "text": [
      "k =  1\n",
      "Accuracy 0.2975\n",
      "F1 Score 0.2975\n",
      "Confusion matrix\n",
      "[[119 281]\n",
      " [  0   0]]\n"
     ]
    }
   ],
   "source": [
    "tags, predict = random_classifier(\"./Datasets/q2/train.csv\", 1)\n",
    "evaluate(tags, predict, 1)"
   ]
  },
  {
   "cell_type": "code",
   "execution_count": 50,
   "metadata": {},
   "outputs": [
    {
     "name": "stdout",
     "output_type": "stream",
     "text": [
      "k =  1\n",
      "Accuracy 0.6675\n",
      "F1 Score 0.6675\n",
      "Confusion matrix\n",
      "[[  0 133]\n",
      " [  0 267]]\n"
     ]
    }
   ],
   "source": [
    "tags, predict = majority_classifier(\"./Datasets/q2/train.csv\", 1)\n",
    "evaluate(tags, predict, 1)"
   ]
  },
  {
   "cell_type": "markdown",
   "metadata": {},
   "source": [
    "KNN implementation is done using numpy, collections and other such libraries. The best accuracy is acheived for k=1. Our implentation is comaprable with the Inbuilt KNN from sklearn library. It also works way better than the baseline cases such as random guessing, majority choosing."
   ]
  }
 ],
 "metadata": {
  "kernelspec": {
   "display_name": "Python 3",
   "language": "python",
   "name": "python3"
  },
  "language_info": {
   "codemirror_mode": {
    "name": "ipython",
    "version": 3
   },
   "file_extension": ".py",
   "mimetype": "text/x-python",
   "name": "python",
   "nbconvert_exporter": "python",
   "pygments_lexer": "ipython3",
   "version": "3.5.2"
  }
 },
 "nbformat": 4,
 "nbformat_minor": 2
}
