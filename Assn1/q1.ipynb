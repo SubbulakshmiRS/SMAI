{
 "cells": [
  {
   "cell_type": "code",
   "execution_count": 18,
   "metadata": {},
   "outputs": [],
   "source": [
    "from sklearn.metrics import accuracy_score, f1_score, confusion_matrix\n",
    "import csv\n",
    "import numpy as np \n",
    "from collections import Counter\n",
    "from sklearn.neighbors import KNeighborsClassifier\n",
    "from random import seed\n",
    "from random import randint"
   ]
  },
  {
   "cell_type": "code",
   "execution_count": 2,
   "metadata": {},
   "outputs": [],
   "source": [
    "# calculate the Euclidean distance between two vectors\n",
    "def euclidean_distance(test_row, train):\n",
    "    a = train - test_row\n",
    "    b =  a**2\n",
    "    distances = np.sum(b, axis = 1)\n",
    "    return distances.reshape(-1,1)\n",
    "\n",
    "# calculate the Manhattan distance between two vectors\n",
    "def manhattan_distance(test_row, train):\n",
    "    a = train - test_row\n",
    "    b = np.absolute(a)\n",
    "    distances = np.sum(b, axis = 1)\n",
    "    return distances.reshape(-1,1)\n",
    "\n",
    "# Locate the most similar neighbors\n",
    "def get_neighbors(train, test_row, num_neighbors):\n",
    "    distances = manhattan_distance(test_row[1:], train[:,1:])\n",
    "    # print(distances[0])\n",
    "    dist = np.append(train, distances, axis=1)\n",
    "    # print(distances[0])\n",
    "    # exit()\n",
    "    # print(distances[0])\n",
    "    dist = np.array(sorted(dist, key=lambda a_entry: a_entry[-1]))\n",
    "    # print(distances[0,:])\n",
    "    neighbors = dist[0:num_neighbors,0]\n",
    "    # print(\"NRIGH\", neighbors[0])\n",
    "    return neighbors\n",
    "\n",
    "# Make a classification prediction with neighbors\n",
    "def predict_classification(trainFile, num_neighbors):\n",
    "    with open(trainFile,'r') as f:\n",
    "        reader  = csv.reader(f, quoting=csv.QUOTE_NONNUMERIC)\n",
    "        train = np.array(list(reader))\n",
    "        validate = train[0:400,:]\n",
    "        train = train[400:,:]\n",
    "        tags = np.zeros(len(validate))\n",
    "        predict = np.zeros(len(validate))\n",
    "        for index in range(len(validate)):\n",
    "            # print(index)\n",
    "            test_row = validate[index,:]\n",
    "            output_values = get_neighbors(train, test_row, num_neighbors)\n",
    "            b = Counter(output_values)\n",
    "            prediction = b.most_common()[0][0]\n",
    "            tags[index] = test_row[0]\n",
    "            predict[index] = prediction\n",
    "    return tags, predict"
   ]
  },
  {
   "cell_type": "code",
   "execution_count": 3,
   "metadata": {},
   "outputs": [],
   "source": [
    "def evaluate(tags, predictions, num_neighbors):\n",
    "    print(\"k = \", num_neighbors)\n",
    "    print(\"Accuracy\",accuracy_score(tags, predictions))\n",
    "    print(\"F1 Score\",f1_score(tags, predictions, average='micro'))\n",
    "    print(\"Confusion matrix\")\n",
    "    print(confusion_matrix(tags, predictions))\n"
   ]
  },
  {
   "cell_type": "markdown",
   "metadata": {},
   "source": [
    "KNN classifier for K = 1 and Manhattan distance"
   ]
  },
  {
   "cell_type": "code",
   "execution_count": 4,
   "metadata": {},
   "outputs": [],
   "source": [
    "tags, predict = predict_classification(\"./Datasets/q1/train.csv\", 1)"
   ]
  },
  {
   "cell_type": "code",
   "execution_count": 5,
   "metadata": {},
   "outputs": [
    {
     "name": "stdout",
     "output_type": "stream",
     "text": [
      "k =  1\n",
      "Accuracy 0.95\n",
      "F1 Score 0.9500000000000001\n",
      "Confusion matrix\n",
      "[[39  0  0  0  0  0  0  0  0  0]\n",
      " [ 0 47  0  0  0  0  0  0  0  0]\n",
      " [ 0  0 31  1  0  0  0  0  0  0]\n",
      " [ 0  1  0 38  0  0  0  0  0  2]\n",
      " [ 0  1  0  0 26  0  0  0  0  2]\n",
      " [ 0  0  0  2  0 34  0  0  0  0]\n",
      " [ 0  0  0  0  0  0 56  0  0  0]\n",
      " [ 0  1  0  0  0  0  0 35  0  0]\n",
      " [ 0  2  0  0  0  1  0  0 33  2]\n",
      " [ 0  0  0  0  0  0  0  5  0 41]]\n"
     ]
    }
   ],
   "source": [
    "evaluate(tags, predict, 1)\n"
   ]
  },
  {
   "cell_type": "markdown",
   "metadata": {},
   "source": [
    "KNN classifier for K = 2 and Manhattan distance"
   ]
  },
  {
   "cell_type": "code",
   "execution_count": 6,
   "metadata": {},
   "outputs": [],
   "source": [
    "tags, predict = predict_classification(\"./Datasets/q1/train.csv\", 2)"
   ]
  },
  {
   "cell_type": "code",
   "execution_count": 7,
   "metadata": {
    "scrolled": true
   },
   "outputs": [
    {
     "name": "stdout",
     "output_type": "stream",
     "text": [
      "k =  2\n",
      "Accuracy 0.96\n",
      "F1 Score 0.96\n",
      "Confusion matrix\n",
      "[[39  0  0  0  0  0  0  0  0  0]\n",
      " [ 0 47  0  0  0  0  0  0  0  0]\n",
      " [ 0  0 32  0  0  0  0  0  0  0]\n",
      " [ 0  1  0 37  0  0  0  0  0  3]\n",
      " [ 0  1  0  0 25  0  0  0  0  3]\n",
      " [ 0  0  0  2  0 34  0  0  0  0]\n",
      " [ 0  0  0  0  0  0 56  0  0  0]\n",
      " [ 0  1  0  0  0  0  0 35  0  0]\n",
      " [ 0  1  1  0  0  0  0  0 34  2]\n",
      " [ 0  0  0  0  0  0  0  1  0 45]]\n"
     ]
    }
   ],
   "source": [
    "evaluate(tags, predict, 2)"
   ]
  },
  {
   "cell_type": "code",
   "execution_count": 8,
   "metadata": {},
   "outputs": [],
   "source": [
    "# Locate the most similar neighbors\n",
    "def get_neighbors(train, test_row, num_neighbors):\n",
    "    distances = euclidean_distance(test_row[1:], train[:,1:])\n",
    "    # print(distances[0])\n",
    "    dist = np.append(train, distances, axis=1)\n",
    "    # print(distances[0])\n",
    "    # exit()\n",
    "    # print(distances[0])\n",
    "    dist = np.array(sorted(dist, key=lambda a_entry: a_entry[-1]))\n",
    "    # print(distances[0,:])\n",
    "    neighbors = dist[0:num_neighbors,0]\n",
    "    # print(\"NRIGH\", neighbors[0])\n",
    "    return neighbors"
   ]
  },
  {
   "cell_type": "markdown",
   "metadata": {},
   "source": [
    "KNN classifier for K = 1 and Euclidean distance"
   ]
  },
  {
   "cell_type": "code",
   "execution_count": 9,
   "metadata": {},
   "outputs": [],
   "source": [
    "tags, predict = predict_classification(\"./Datasets/q1/train.csv\", 1)"
   ]
  },
  {
   "cell_type": "code",
   "execution_count": 10,
   "metadata": {},
   "outputs": [
    {
     "name": "stdout",
     "output_type": "stream",
     "text": [
      "k =  1\n",
      "Accuracy 0.97\n",
      "F1 Score 0.97\n",
      "Confusion matrix\n",
      "[[39  0  0  0  0  0  0  0  0  0]\n",
      " [ 0 47  0  0  0  0  0  0  0  0]\n",
      " [ 0  0 32  0  0  0  0  0  0  0]\n",
      " [ 0  1  0 38  0  0  0  0  0  2]\n",
      " [ 0  1  0  0 27  0  0  0  0  1]\n",
      " [ 0  0  0  1  0 35  0  0  0  0]\n",
      " [ 0  0  0  0  0  0 56  0  0  0]\n",
      " [ 0  0  0  0  0  0  0 36  0  0]\n",
      " [ 0  1  0  0  0  1  0  0 34  2]\n",
      " [ 0  0  0  0  0  0  0  2  0 44]]\n"
     ]
    }
   ],
   "source": [
    "evaluate(tags, predict, 1)"
   ]
  },
  {
   "cell_type": "markdown",
   "metadata": {},
   "source": [
    "KNN classifier for K = 2 and Euclidean distance"
   ]
  },
  {
   "cell_type": "code",
   "execution_count": 11,
   "metadata": {},
   "outputs": [],
   "source": [
    "tags, predict = predict_classification(\"./Datasets/q1/train.csv\", 2)"
   ]
  },
  {
   "cell_type": "code",
   "execution_count": 12,
   "metadata": {},
   "outputs": [
    {
     "name": "stdout",
     "output_type": "stream",
     "text": [
      "k =  2\n",
      "Accuracy 0.9625\n",
      "F1 Score 0.9625000000000001\n",
      "Confusion matrix\n",
      "[[39  0  0  0  0  0  0  0  0  0]\n",
      " [ 0 46  0  0  0  0  0  0  1  0]\n",
      " [ 0  0 32  0  0  0  0  0  0  0]\n",
      " [ 0  1  0 37  0  0  0  0  1  2]\n",
      " [ 0  1  0  0 26  0  0  0  0  2]\n",
      " [ 0  0  0  2  0 34  0  0  0  0]\n",
      " [ 1  0  0  0  0  0 55  0  0  0]\n",
      " [ 0  0  0  0  0  0  0 36  0  0]\n",
      " [ 0  1  1  0  0  0  0  0 35  1]\n",
      " [ 0  0  0  0  0  0  0  1  0 45]]\n"
     ]
    }
   ],
   "source": [
    "evaluate(tags, predict, 2)"
   ]
  },
  {
   "cell_type": "markdown",
   "metadata": {},
   "source": [
    "Accuracy and other metrics best for Eucliedean distance and k =1. Thus for this setting we will compare the results with Inbuilt KNN classifier from sklearn, Random guessing and Majority choosing based implementation"
   ]
  },
  {
   "cell_type": "code",
   "execution_count": 21,
   "metadata": {},
   "outputs": [],
   "source": [
    "def inbuiltKNN(trainFile, num_neighbor):\n",
    "    with open(trainFile,'r') as f:\n",
    "        reader  = csv.reader(f, quoting=csv.QUOTE_NONNUMERIC)\n",
    "        train = np.array(list(reader))\n",
    "        validate = train[0:400,:]\n",
    "        train = train[400:,:]\n",
    "        knn = KNeighborsClassifier(n_neighbors=num_neighbor)\n",
    "        knn.fit(train[:,1:], train[:,0])\n",
    "        predict = knn.predict(validate[:,1:])\n",
    "        tags = validate[:,0]\n",
    "        return tags, predict\n",
    "\n",
    "def random_classifier(trainFile, num_neighbor):\n",
    "    with open(trainFile,'r') as f:\n",
    "        reader  = csv.reader(f, quoting=csv.QUOTE_NONNUMERIC)\n",
    "        train = np.array(list(reader))\n",
    "        validate = train[0:400,:]\n",
    "        train = train[400:,:]\n",
    "        seed(1)\n",
    "        tags = np.zeros(len(validate))\n",
    "        predict = np.zeros(len(validate))\n",
    "        for index in range(len(validate)):\n",
    "            i = randint(0, len(train))\n",
    "            tags[index] = validate[index,0]\n",
    "            predict[index] = train[i,0]\n",
    "    return tags, predict\n",
    "\n",
    "def majority_classifier(trainFile, num_neighbors):\n",
    "    with open(trainFile,'r') as f:\n",
    "        reader  = csv.reader(f, quoting=csv.QUOTE_NONNUMERIC)\n",
    "        train = np.array(list(reader))\n",
    "        validate = train[0:400,:]\n",
    "        train = train[400:,:]\n",
    "        tags = validate[:,0]\n",
    "        b = Counter(train[:,0])\n",
    "        prediction = b.most_common()[0][0]\n",
    "        predict = np.full(len(validate), prediction)\n",
    "        return tags, predict"
   ]
  },
  {
   "cell_type": "markdown",
   "metadata": {},
   "source": [
    "Inbuilt KNN implementation using sklearn"
   ]
  },
  {
   "cell_type": "code",
   "execution_count": 22,
   "metadata": {},
   "outputs": [],
   "source": [
    "tags, predict = inbuiltKNN(\"./Datasets/q1/train.csv\", 1)"
   ]
  },
  {
   "cell_type": "code",
   "execution_count": 23,
   "metadata": {},
   "outputs": [
    {
     "name": "stdout",
     "output_type": "stream",
     "text": [
      "k =  1\n",
      "Accuracy 0.97\n",
      "F1 Score 0.97\n",
      "Confusion matrix\n",
      "[[39  0  0  0  0  0  0  0  0  0]\n",
      " [ 0 47  0  0  0  0  0  0  0  0]\n",
      " [ 0  0 32  0  0  0  0  0  0  0]\n",
      " [ 0  1  0 38  0  0  0  0  0  2]\n",
      " [ 0  1  0  0 27  0  0  0  0  1]\n",
      " [ 0  0  0  1  0 35  0  0  0  0]\n",
      " [ 0  0  0  0  0  0 56  0  0  0]\n",
      " [ 0  0  0  0  0  0  0 36  0  0]\n",
      " [ 0  1  0  0  0  1  0  0 34  2]\n",
      " [ 0  0  0  0  0  0  0  2  0 44]]\n"
     ]
    }
   ],
   "source": [
    "evaluate(tags, predict, 1)"
   ]
  },
  {
   "cell_type": "markdown",
   "metadata": {},
   "source": [
    "Random guessing from the training data"
   ]
  },
  {
   "cell_type": "code",
   "execution_count": 24,
   "metadata": {},
   "outputs": [],
   "source": [
    "tags, predict = random_classifier(\"./Datasets/q1/train.csv\", 1)"
   ]
  },
  {
   "cell_type": "code",
   "execution_count": 25,
   "metadata": {},
   "outputs": [
    {
     "name": "stdout",
     "output_type": "stream",
     "text": [
      "k =  1\n",
      "Accuracy 0.105\n",
      "F1 Score 0.10499999999999998\n",
      "Confusion matrix\n",
      "[[ 4  4  3  2  5  4  4  1  5  7]\n",
      " [ 4  4  4  8  4  5  2  8  4  4]\n",
      " [ 7  1  4  3  1  4  1  3  3  5]\n",
      " [ 4  6  6  3  1  2  7  2  4  6]\n",
      " [ 4  3  3  1  2  1  9  5  0  1]\n",
      " [ 6  3  2  2  2  4  4  4  5  4]\n",
      " [ 8  4  6  9  6  5 10  4  3  1]\n",
      " [ 2  5  3  4  7  4  2  4  2  3]\n",
      " [ 3  4  4  1  5  3  8  6  2  2]\n",
      " [ 2  5  6  5  5  4  3  6  5  5]]\n"
     ]
    }
   ],
   "source": [
    "evaluate(tags, predict, 1)"
   ]
  },
  {
   "cell_type": "markdown",
   "metadata": {},
   "source": [
    "Majority (mode) from the training data"
   ]
  },
  {
   "cell_type": "code",
   "execution_count": 26,
   "metadata": {},
   "outputs": [],
   "source": [
    "tags, predict = majority_classifier(\"./Datasets/q1/train.csv\", 1)"
   ]
  },
  {
   "cell_type": "code",
   "execution_count": 27,
   "metadata": {},
   "outputs": [
    {
     "name": "stdout",
     "output_type": "stream",
     "text": [
      "k =  1\n",
      "Accuracy 0.1175\n",
      "F1 Score 0.1175\n",
      "Confusion matrix\n",
      "[[ 0 39  0  0  0  0  0  0  0  0]\n",
      " [ 0 47  0  0  0  0  0  0  0  0]\n",
      " [ 0 32  0  0  0  0  0  0  0  0]\n",
      " [ 0 41  0  0  0  0  0  0  0  0]\n",
      " [ 0 29  0  0  0  0  0  0  0  0]\n",
      " [ 0 36  0  0  0  0  0  0  0  0]\n",
      " [ 0 56  0  0  0  0  0  0  0  0]\n",
      " [ 0 36  0  0  0  0  0  0  0  0]\n",
      " [ 0 38  0  0  0  0  0  0  0  0]\n",
      " [ 0 46  0  0  0  0  0  0  0  0]]\n"
     ]
    }
   ],
   "source": [
    "evaluate(tags, predict, 1)"
   ]
  },
  {
   "cell_type": "markdown",
   "metadata": {},
   "source": [
    "KNN implementation is done using numpy, collections and other such libraries. Two different distances are checked here, manhattan distance and euclidean distance. The best accuracy is acheived for k=1. Our implentation is comaprable with the Inbuilt KNN from sklearn library. It also works way better than the baseline cases such as random guessing, majority choosing."
   ]
  }
 ],
 "metadata": {
  "kernelspec": {
   "display_name": "Python 3",
   "language": "python",
   "name": "python3"
  },
  "language_info": {
   "codemirror_mode": {
    "name": "ipython",
    "version": 3
   },
   "file_extension": ".py",
   "mimetype": "text/x-python",
   "name": "python",
   "nbconvert_exporter": "python",
   "pygments_lexer": "ipython3",
   "version": "3.5.2"
  }
 },
 "nbformat": 4,
 "nbformat_minor": 2
}
